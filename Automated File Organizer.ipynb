{
 "cells": [
  {
   "cell_type": "code",
   "execution_count": 7,
   "id": "4b77eb61-16ec-4094-b575-82e0a9323386",
   "metadata": {},
   "outputs": [
    {
     "name": "stdout",
     "output_type": "stream",
     "text": [
      "Files organized successfully!\n"
     ]
    }
   ],
   "source": [
    "import os\n",
    "import shutil\n",
    "\n",
    "# Path to the folder you want to organize\n",
    "folder_path = r\"D:/Downloads\" # Change this to your path\n",
    "\n",
    "# Dictionary of folder names and file extensions\n",
    "file_types = {\n",
    "    \"Images\": [\".jpg\", \".jpeg\", \".png\", \".gif\"],\n",
    "    \"Documents\": [\".pdf\", \".docx\", \".txt\", \".xlsx\"],\n",
    "    \"Videos\": [\".mp4\", \".mkv\", \".mov\"],\n",
    "    \"Music\": [\".mp3\", \".wav\"],\n",
    "    \"Archives\": [\".zip\", \".rar\", \".tar\", \".gz\"],\n",
    "    \"Programs\": [\".exe\", \".msi\"],\n",
    "    \"Others\": []\n",
    "}\n",
    "\n",
    "# Create folders if not exist\n",
    "for folder in file_types:\n",
    "    folder_name = os.path.join(folder_path, folder)\n",
    "    if not os.path.exists(folder_name):\n",
    "        os.makedirs(folder_name)\n",
    "\n",
    "# Move files to their respective folders\n",
    "for filename in os.listdir(folder_path):\n",
    "    file_ext = os.path.splitext(filename)[1].lower()\n",
    "    file_moved = False\n",
    "\n",
    "    for folder, extensions in file_types.items():\n",
    "        if file_ext in extensions:\n",
    "            src = os.path.join(folder_path, filename)\n",
    "            dest = os.path.join(folder_path, folder, filename)\n",
    "            shutil.move(src, dest)\n",
    "            file_moved = True\n",
    "            break\n",
    "\n",
    "    # Move unknown types to \"Others\"\n",
    "    if not file_moved and os.path.isfile(os.path.join(folder_path, filename)):\n",
    "        shutil.move(os.path.join(folder_path, filename),\n",
    "                    os.path.join(folder_path, \"Others\", filename))\n",
    "\n",
    "print(\"Files organized successfully!\")"
   ]
  },
  {
   "cell_type": "code",
   "execution_count": null,
   "id": "f34459e0-af4c-4571-bffc-4670abb91861",
   "metadata": {},
   "outputs": [],
   "source": []
  }
 ],
 "metadata": {
  "kernelspec": {
   "display_name": "Python [conda env:base] *",
   "language": "python",
   "name": "conda-base-py"
  },
  "language_info": {
   "codemirror_mode": {
    "name": "ipython",
    "version": 3
   },
   "file_extension": ".py",
   "mimetype": "text/x-python",
   "name": "python",
   "nbconvert_exporter": "python",
   "pygments_lexer": "ipython3",
   "version": "3.11.4"
  }
 },
 "nbformat": 4,
 "nbformat_minor": 5
}
